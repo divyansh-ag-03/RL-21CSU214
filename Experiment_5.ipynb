{
  "nbformat": 4,
  "nbformat_minor": 0,
  "metadata": {
    "colab": {
      "provenance": [],
      "include_colab_link": true
    },
    "kernelspec": {
      "name": "python3",
      "display_name": "Python 3"
    },
    "language_info": {
      "name": "python"
    }
  },
  "cells": [
    {
      "cell_type": "markdown",
      "metadata": {
        "id": "view-in-github",
        "colab_type": "text"
      },
      "source": [
        "<a href=\"https://colab.research.google.com/github/divyansh-ag-03/RL-21CSU214/blob/main/Experiment_5.ipynb\" target=\"_parent\"><img src=\"https://colab.research.google.com/assets/colab-badge.svg\" alt=\"Open In Colab\"/></a>"
      ]
    },
    {
      "cell_type": "code",
      "source": [
        "import numpy as np\n",
        "\n",
        "# Define the Q-table with dimensions (6, 6) initialized with zeros\n",
        "Q = np.zeros((6, 6))\n",
        "\n",
        "# Define the rewards matrix with valid actions for each state\n",
        "rewards = np.array([\n",
        "    [-1, -1, -1, -1, 0, -1],\n",
        "    [-1, -1, -1, 0, -1, 100],\n",
        "    [-1, -1, -1, 0, -1, -1],\n",
        "    [-1, 0, 0, -1, 0, -1],\n",
        "    [0, -1, -1, 0, -1, 100],\n",
        "    [-1, 0, -1, -1, 0, 100]\n",
        "])\n",
        "\n",
        "# Define hyperparameters\n",
        "learning_rate = 0.8\n",
        "discount_factor = 0.95\n",
        "num_episodes = 1000\n",
        "\n",
        "# Q-learning algorithm\n",
        "for _ in range(num_episodes):\n",
        "    current_state = np.random.randint(6)  # Start in a random state\n",
        "\n",
        "    while current_state != 5:  # While not in the goal state (state 5)\n",
        "        # Choose a random valid action\n",
        "        possible_actions = np.where(rewards[current_state] >= 0)[0]\n",
        "        action = np.random.choice(possible_actions)\n",
        "\n",
        "        # Update Q-value using the Q-learning formula\n",
        "        next_state = action\n",
        "        max_next_action = np.argmax(Q[next_state])\n",
        "        Q[current_state, action] = (1 - learning_rate) * Q[current_state, action] + learning_rate * (rewards[current_state, action] + discount_factor * Q[next_state, max_next_action])\n",
        "\n",
        "        current_state = next_state\n",
        "\n",
        "# Print the learned Q-table\n",
        "print(\"Learned Q-Table:\")\n",
        "print(Q)\n",
        "\n",
        "# Optimal policy\n",
        "current_state = 2  # Starting state\n",
        "path = [current_state]\n",
        "\n",
        "while current_state != 5:  # While not in the goal state (state 5)\n",
        "    action = np.argmax(Q[current_state])\n",
        "    current_state = action\n",
        "    path.append(current_state)\n",
        "\n",
        "print(\"Optimal Path:\")\n",
        "print(path)\n"
      ],
      "metadata": {
        "id": "ZE_2EipRN276",
        "outputId": "a6c9e240-586e-4179-ed27-34d798b181aa",
        "colab": {
          "base_uri": "https://localhost:8080/"
        }
      },
      "execution_count": 1,
      "outputs": [
        {
          "output_type": "stream",
          "name": "stdout",
          "text": [
            "Learned Q-Table:\n",
            "[[  0.       0.       0.       0.      95.       0.    ]\n",
            " [  0.       0.       0.      90.25     0.     100.    ]\n",
            " [  0.       0.       0.      90.25     0.       0.    ]\n",
            " [  0.      95.      85.7375   0.      95.       0.    ]\n",
            " [ 90.25     0.       0.      90.25     0.     100.    ]\n",
            " [  0.       0.       0.       0.       0.       0.    ]]\n",
            "Optimal Path:\n",
            "[2, 3, 1, 5]\n"
          ]
        }
      ]
    },
    {
      "cell_type": "code",
      "source": [
        "import numpy as np\n",
        "\n",
        "# Define the Q-table with dimensions (6, 6) initialized with zeros\n",
        "Q = np.zeros((6, 6))\n",
        "\n",
        "# Define the rewards matrix with valid actions for each state\n",
        "rewards = np.array([\n",
        "    [-1, 0, -1, 0, -1, -1],\n",
        "    [0, -1, 100, -1, 0, -1],\n",
        "    [-1, -1, 0, -1, -1, -1],\n",
        "    [0, -1, -1, -1, 0, -1],\n",
        "    [-1, 0, -1, 0, -1, 0],\n",
        "    [-1, -1, 100, -1, 0, 0]\n",
        "])\n",
        "\n",
        "# Define hyperparameters\n",
        "learning_rate = 0.8\n",
        "discount_factor = 0.95\n",
        "num_episodes = 1000\n",
        "\n",
        "# Q-learning algorithm\n",
        "for _ in range(num_episodes):\n",
        "    current_state = np.random.randint(6)  # Start in a random state\n",
        "\n",
        "    while current_state != 2:  # While not in the goal state (state 5)\n",
        "        # Choose a random valid action\n",
        "        possible_actions = np.where(rewards[current_state] >= 0)[0]\n",
        "        action = np.random.choice(possible_actions)\n",
        "\n",
        "        # Update Q-value using the Q-learning formula\n",
        "        next_state = action\n",
        "        max_next_action = np.argmax(Q[next_state])\n",
        "        Q[current_state, action] = (1 - learning_rate) * Q[current_state, action] + learning_rate * (rewards[current_state, action] + discount_factor * Q[next_state, max_next_action])\n",
        "\n",
        "        current_state = next_state\n",
        "\n",
        "# Print the learned Q-table\n",
        "print(\"Learned Q-Table:\")\n",
        "print(Q)\n",
        "\n",
        "# Optimal policy\n",
        "current_state = 0  # Starting state\n",
        "path = [current_state]\n",
        "\n",
        "while current_state != 2:  # While not in the goal state (state 5)\n",
        "    action = np.argmax(Q[current_state])\n",
        "    current_state = action\n",
        "    path.append(current_state)\n",
        "\n",
        "print(\"Optimal Path:\")\n",
        "print(path)\n"
      ],
      "metadata": {
        "id": "t8BdymNbN3zq",
        "outputId": "63fe0132-b640-442d-9bed-1984ff9db396",
        "colab": {
          "base_uri": "https://localhost:8080/"
        }
      },
      "execution_count": 2,
      "outputs": [
        {
          "output_type": "stream",
          "name": "stdout",
          "text": [
            "Learned Q-Table:\n",
            "[[  0.      95.       0.      85.7375   0.       0.    ]\n",
            " [ 90.25     0.     100.       0.      90.25     0.    ]\n",
            " [  0.       0.       0.       0.       0.       0.    ]\n",
            " [ 90.25     0.       0.       0.      90.25     0.    ]\n",
            " [  0.      95.       0.      85.7375   0.      95.    ]\n",
            " [  0.       0.     100.       0.      90.25    95.    ]]\n",
            "Optimal Path:\n",
            "[0, 1, 2]\n"
          ]
        }
      ]
    },
    {
      "cell_type": "code",
      "source": [],
      "metadata": {
        "id": "DpvoyL10Qkj6"
      },
      "execution_count": null,
      "outputs": []
    }
  ]
}